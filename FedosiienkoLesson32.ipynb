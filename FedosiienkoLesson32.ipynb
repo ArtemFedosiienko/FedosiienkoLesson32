{
 "cells": [
  {
   "cell_type": "markdown",
   "id": "58cdea09",
   "metadata": {},
   "source": [
    "# Завдання"
   ]
  },
  {
   "cell_type": "markdown",
   "id": "1e357183",
   "metadata": {},
   "source": [
    "#### 1. Створіть датафрейм розміром 15*5, що містить наступні дані: ####\n",
    "\n",
    "а) ім'я та прізвище студента;\n",
    "\n",
    "б) середній бал;\n",
    "\n",
    "в) оцінка за поточний екзамен;\n",
    "\n",
    "г) кількість спроб здачі поточного екзамену."
   ]
  },
  {
   "cell_type": "markdown",
   "id": "630217ea",
   "metadata": {},
   "source": [
    "#### 2. Додайте до датафрейму стовпчик, що містить дані про допуск студента на наступний курс. ####"
   ]
  },
  {
   "cell_type": "markdown",
   "id": "d8fefd61",
   "metadata": {},
   "source": [
    "#### 3. Виведіть мінімальний, максимальний, середній та медіанний показники середнього балу студентів. ####"
   ]
  },
  {
   "cell_type": "markdown",
   "id": "dacd8294",
   "metadata": {},
   "source": [
    "#### 4. Виведіть кількість студентів, що здали поточний екзамен з першого разу. ####"
   ]
  },
  {
   "cell_type": "markdown",
   "id": "5b5d613b",
   "metadata": {},
   "source": [
    "#### 5. Збережіть будь-які дані з датафрейму у вигляді серії. ####"
   ]
  },
  {
   "cell_type": "markdown",
   "id": "885abe3f",
   "metadata": {},
   "source": [
    "# Розв'язок #"
   ]
  },
  {
   "cell_type": "code",
   "execution_count": 9,
   "id": "1a5813ae",
   "metadata": {},
   "outputs": [],
   "source": [
    "import pandas as pd"
   ]
  },
  {
   "cell_type": "markdown",
   "id": "6005901a",
   "metadata": {},
   "source": [
    "#### 1. Створення датафрейму розміром 15*5: ####"
   ]
  },
  {
   "cell_type": "code",
   "execution_count": 10,
   "id": "4b11cc91",
   "metadata": {
    "scrolled": false
   },
   "outputs": [
    {
     "data": {
      "text/html": [
       "<div>\n",
       "<style scoped>\n",
       "    .dataframe tbody tr th:only-of-type {\n",
       "        vertical-align: middle;\n",
       "    }\n",
       "\n",
       "    .dataframe tbody tr th {\n",
       "        vertical-align: top;\n",
       "    }\n",
       "\n",
       "    .dataframe thead th {\n",
       "        text-align: right;\n",
       "    }\n",
       "</style>\n",
       "<table border=\"1\" class=\"dataframe\">\n",
       "  <thead>\n",
       "    <tr style=\"text-align: right;\">\n",
       "      <th></th>\n",
       "      <th>Прізвище студента</th>\n",
       "      <th>Ім'я студента</th>\n",
       "      <th>Середній бал</th>\n",
       "      <th>Оцінка за поточний екзамен</th>\n",
       "      <th>Кількість спроб здачі поточного екзамену</th>\n",
       "    </tr>\n",
       "  </thead>\n",
       "  <tbody>\n",
       "    <tr>\n",
       "      <th>0</th>\n",
       "      <td>Балтінісов</td>\n",
       "      <td>Кирило</td>\n",
       "      <td>62</td>\n",
       "      <td>60</td>\n",
       "      <td>2</td>\n",
       "    </tr>\n",
       "    <tr>\n",
       "      <th>1</th>\n",
       "      <td>Глухова</td>\n",
       "      <td>Анна</td>\n",
       "      <td>90</td>\n",
       "      <td>92</td>\n",
       "      <td>1</td>\n",
       "    </tr>\n",
       "    <tr>\n",
       "      <th>2</th>\n",
       "      <td>Драч</td>\n",
       "      <td>Наталя</td>\n",
       "      <td>76</td>\n",
       "      <td>74</td>\n",
       "      <td>1</td>\n",
       "    </tr>\n",
       "    <tr>\n",
       "      <th>3</th>\n",
       "      <td>Зезекало</td>\n",
       "      <td>Андрій</td>\n",
       "      <td>57</td>\n",
       "      <td>58</td>\n",
       "      <td>3</td>\n",
       "    </tr>\n",
       "    <tr>\n",
       "      <th>4</th>\n",
       "      <td>Коршун</td>\n",
       "      <td>Дмитро</td>\n",
       "      <td>65</td>\n",
       "      <td>69</td>\n",
       "      <td>2</td>\n",
       "    </tr>\n",
       "    <tr>\n",
       "      <th>5</th>\n",
       "      <td>Марченко</td>\n",
       "      <td>Олексій</td>\n",
       "      <td>95</td>\n",
       "      <td>94</td>\n",
       "      <td>1</td>\n",
       "    </tr>\n",
       "    <tr>\n",
       "      <th>6</th>\n",
       "      <td>Новінська</td>\n",
       "      <td>Валентина</td>\n",
       "      <td>74</td>\n",
       "      <td>81</td>\n",
       "      <td>1</td>\n",
       "    </tr>\n",
       "    <tr>\n",
       "      <th>7</th>\n",
       "      <td>Пелих</td>\n",
       "      <td>Сергій</td>\n",
       "      <td>55</td>\n",
       "      <td>50</td>\n",
       "      <td>3</td>\n",
       "    </tr>\n",
       "    <tr>\n",
       "      <th>8</th>\n",
       "      <td>Ставицький</td>\n",
       "      <td>Володимир</td>\n",
       "      <td>85</td>\n",
       "      <td>80</td>\n",
       "      <td>1</td>\n",
       "    </tr>\n",
       "    <tr>\n",
       "      <th>9</th>\n",
       "      <td>Тарасенко</td>\n",
       "      <td>Дмитро</td>\n",
       "      <td>63</td>\n",
       "      <td>62</td>\n",
       "      <td>1</td>\n",
       "    </tr>\n",
       "    <tr>\n",
       "      <th>10</th>\n",
       "      <td>Фесенко</td>\n",
       "      <td>Світлана</td>\n",
       "      <td>65</td>\n",
       "      <td>71</td>\n",
       "      <td>2</td>\n",
       "    </tr>\n",
       "    <tr>\n",
       "      <th>11</th>\n",
       "      <td>Хомут</td>\n",
       "      <td>Петро</td>\n",
       "      <td>90</td>\n",
       "      <td>100</td>\n",
       "      <td>1</td>\n",
       "    </tr>\n",
       "    <tr>\n",
       "      <th>12</th>\n",
       "      <td>Чернишов</td>\n",
       "      <td>Олег</td>\n",
       "      <td>82</td>\n",
       "      <td>85</td>\n",
       "      <td>1</td>\n",
       "    </tr>\n",
       "    <tr>\n",
       "      <th>13</th>\n",
       "      <td>Шаповалова</td>\n",
       "      <td>Ніна</td>\n",
       "      <td>72</td>\n",
       "      <td>80</td>\n",
       "      <td>2</td>\n",
       "    </tr>\n",
       "    <tr>\n",
       "      <th>14</th>\n",
       "      <td>Ясень</td>\n",
       "      <td>Сергій</td>\n",
       "      <td>87</td>\n",
       "      <td>88</td>\n",
       "      <td>2</td>\n",
       "    </tr>\n",
       "  </tbody>\n",
       "</table>\n",
       "</div>"
      ],
      "text/plain": [
       "   Прізвище студента Ім'я студента  Середній бал  Оцінка за поточний екзамен  \\\n",
       "0         Балтінісов        Кирило            62                          60   \n",
       "1            Глухова          Анна            90                          92   \n",
       "2               Драч        Наталя            76                          74   \n",
       "3           Зезекало        Андрій            57                          58   \n",
       "4             Коршун        Дмитро            65                          69   \n",
       "5           Марченко       Олексій            95                          94   \n",
       "6          Новінська     Валентина            74                          81   \n",
       "7              Пелих        Сергій            55                          50   \n",
       "8         Ставицький     Володимир            85                          80   \n",
       "9          Тарасенко        Дмитро            63                          62   \n",
       "10           Фесенко      Світлана            65                          71   \n",
       "11             Хомут         Петро            90                         100   \n",
       "12          Чернишов          Олег            82                          85   \n",
       "13        Шаповалова          Ніна            72                          80   \n",
       "14             Ясень        Сергій            87                          88   \n",
       "\n",
       "    Кількість спроб здачі поточного екзамену  \n",
       "0                                          2  \n",
       "1                                          1  \n",
       "2                                          1  \n",
       "3                                          3  \n",
       "4                                          2  \n",
       "5                                          1  \n",
       "6                                          1  \n",
       "7                                          3  \n",
       "8                                          1  \n",
       "9                                          1  \n",
       "10                                         2  \n",
       "11                                         1  \n",
       "12                                         1  \n",
       "13                                         2  \n",
       "14                                         2  "
      ]
     },
     "execution_count": 10,
     "metadata": {},
     "output_type": "execute_result"
    }
   ],
   "source": [
    "students = pd.read_excel(\"FedosiienkoLesson32dz.xlsx\")\n",
    "students"
   ]
  },
  {
   "cell_type": "code",
   "execution_count": 11,
   "id": "b8430a06",
   "metadata": {
    "scrolled": true
   },
   "outputs": [
    {
     "name": "stdout",
     "output_type": "stream",
     "text": [
      "Розмір виведено датафрейму становить:  (15, 5)\n"
     ]
    }
   ],
   "source": [
    "print(\"Розмір виведено датафрейму становить: \", students.shape)"
   ]
  },
  {
   "cell_type": "markdown",
   "id": "9462f52b",
   "metadata": {},
   "source": [
    "#### 2. Додавання до датафрейму стовпчику: ####"
   ]
  },
  {
   "cell_type": "code",
   "execution_count": 12,
   "id": "ac5e079e",
   "metadata": {},
   "outputs": [
    {
     "data": {
      "text/html": [
       "<div>\n",
       "<style scoped>\n",
       "    .dataframe tbody tr th:only-of-type {\n",
       "        vertical-align: middle;\n",
       "    }\n",
       "\n",
       "    .dataframe tbody tr th {\n",
       "        vertical-align: top;\n",
       "    }\n",
       "\n",
       "    .dataframe thead th {\n",
       "        text-align: right;\n",
       "    }\n",
       "</style>\n",
       "<table border=\"1\" class=\"dataframe\">\n",
       "  <thead>\n",
       "    <tr style=\"text-align: right;\">\n",
       "      <th></th>\n",
       "      <th>Прізвище студента</th>\n",
       "      <th>Ім'я студента</th>\n",
       "      <th>Середній бал</th>\n",
       "      <th>Оцінка за поточний екзамен</th>\n",
       "      <th>Кількість спроб здачі поточного екзамену</th>\n",
       "      <th>Допуск на наступний курс</th>\n",
       "    </tr>\n",
       "  </thead>\n",
       "  <tbody>\n",
       "    <tr>\n",
       "      <th>0</th>\n",
       "      <td>Балтінісов</td>\n",
       "      <td>Кирило</td>\n",
       "      <td>62</td>\n",
       "      <td>60</td>\n",
       "      <td>2</td>\n",
       "      <td>Допуск</td>\n",
       "    </tr>\n",
       "    <tr>\n",
       "      <th>1</th>\n",
       "      <td>Глухова</td>\n",
       "      <td>Анна</td>\n",
       "      <td>90</td>\n",
       "      <td>92</td>\n",
       "      <td>1</td>\n",
       "      <td>Допуск</td>\n",
       "    </tr>\n",
       "    <tr>\n",
       "      <th>2</th>\n",
       "      <td>Драч</td>\n",
       "      <td>Наталя</td>\n",
       "      <td>76</td>\n",
       "      <td>74</td>\n",
       "      <td>1</td>\n",
       "      <td>Допуск</td>\n",
       "    </tr>\n",
       "    <tr>\n",
       "      <th>3</th>\n",
       "      <td>Зезекало</td>\n",
       "      <td>Андрій</td>\n",
       "      <td>57</td>\n",
       "      <td>58</td>\n",
       "      <td>3</td>\n",
       "      <td>Не допуск</td>\n",
       "    </tr>\n",
       "    <tr>\n",
       "      <th>4</th>\n",
       "      <td>Коршун</td>\n",
       "      <td>Дмитро</td>\n",
       "      <td>65</td>\n",
       "      <td>69</td>\n",
       "      <td>2</td>\n",
       "      <td>Допуск</td>\n",
       "    </tr>\n",
       "    <tr>\n",
       "      <th>5</th>\n",
       "      <td>Марченко</td>\n",
       "      <td>Олексій</td>\n",
       "      <td>95</td>\n",
       "      <td>94</td>\n",
       "      <td>1</td>\n",
       "      <td>Допуск</td>\n",
       "    </tr>\n",
       "    <tr>\n",
       "      <th>6</th>\n",
       "      <td>Новінська</td>\n",
       "      <td>Валентина</td>\n",
       "      <td>74</td>\n",
       "      <td>81</td>\n",
       "      <td>1</td>\n",
       "      <td>Допуск</td>\n",
       "    </tr>\n",
       "    <tr>\n",
       "      <th>7</th>\n",
       "      <td>Пелих</td>\n",
       "      <td>Сергій</td>\n",
       "      <td>55</td>\n",
       "      <td>50</td>\n",
       "      <td>3</td>\n",
       "      <td>Не допуск</td>\n",
       "    </tr>\n",
       "    <tr>\n",
       "      <th>8</th>\n",
       "      <td>Ставицький</td>\n",
       "      <td>Володимир</td>\n",
       "      <td>85</td>\n",
       "      <td>80</td>\n",
       "      <td>1</td>\n",
       "      <td>Допуск</td>\n",
       "    </tr>\n",
       "    <tr>\n",
       "      <th>9</th>\n",
       "      <td>Тарасенко</td>\n",
       "      <td>Дмитро</td>\n",
       "      <td>63</td>\n",
       "      <td>62</td>\n",
       "      <td>1</td>\n",
       "      <td>Допуск</td>\n",
       "    </tr>\n",
       "    <tr>\n",
       "      <th>10</th>\n",
       "      <td>Фесенко</td>\n",
       "      <td>Світлана</td>\n",
       "      <td>65</td>\n",
       "      <td>71</td>\n",
       "      <td>2</td>\n",
       "      <td>Допуск</td>\n",
       "    </tr>\n",
       "    <tr>\n",
       "      <th>11</th>\n",
       "      <td>Хомут</td>\n",
       "      <td>Петро</td>\n",
       "      <td>90</td>\n",
       "      <td>100</td>\n",
       "      <td>1</td>\n",
       "      <td>Допуск</td>\n",
       "    </tr>\n",
       "    <tr>\n",
       "      <th>12</th>\n",
       "      <td>Чернишов</td>\n",
       "      <td>Олег</td>\n",
       "      <td>82</td>\n",
       "      <td>85</td>\n",
       "      <td>1</td>\n",
       "      <td>Допуск</td>\n",
       "    </tr>\n",
       "    <tr>\n",
       "      <th>13</th>\n",
       "      <td>Шаповалова</td>\n",
       "      <td>Ніна</td>\n",
       "      <td>72</td>\n",
       "      <td>80</td>\n",
       "      <td>2</td>\n",
       "      <td>Допуск</td>\n",
       "    </tr>\n",
       "    <tr>\n",
       "      <th>14</th>\n",
       "      <td>Ясень</td>\n",
       "      <td>Сергій</td>\n",
       "      <td>87</td>\n",
       "      <td>88</td>\n",
       "      <td>2</td>\n",
       "      <td>Допуск</td>\n",
       "    </tr>\n",
       "  </tbody>\n",
       "</table>\n",
       "</div>"
      ],
      "text/plain": [
       "   Прізвище студента Ім'я студента  Середній бал  Оцінка за поточний екзамен  \\\n",
       "0         Балтінісов        Кирило            62                          60   \n",
       "1            Глухова          Анна            90                          92   \n",
       "2               Драч        Наталя            76                          74   \n",
       "3           Зезекало        Андрій            57                          58   \n",
       "4             Коршун        Дмитро            65                          69   \n",
       "5           Марченко       Олексій            95                          94   \n",
       "6          Новінська     Валентина            74                          81   \n",
       "7              Пелих        Сергій            55                          50   \n",
       "8         Ставицький     Володимир            85                          80   \n",
       "9          Тарасенко        Дмитро            63                          62   \n",
       "10           Фесенко      Світлана            65                          71   \n",
       "11             Хомут         Петро            90                         100   \n",
       "12          Чернишов          Олег            82                          85   \n",
       "13        Шаповалова          Ніна            72                          80   \n",
       "14             Ясень        Сергій            87                          88   \n",
       "\n",
       "    Кількість спроб здачі поточного екзамену Допуск на наступний курс  \n",
       "0                                          2                   Допуск  \n",
       "1                                          1                   Допуск  \n",
       "2                                          1                   Допуск  \n",
       "3                                          3                Не допуск  \n",
       "4                                          2                   Допуск  \n",
       "5                                          1                   Допуск  \n",
       "6                                          1                   Допуск  \n",
       "7                                          3                Не допуск  \n",
       "8                                          1                   Допуск  \n",
       "9                                          1                   Допуск  \n",
       "10                                         2                   Допуск  \n",
       "11                                         1                   Допуск  \n",
       "12                                         1                   Допуск  \n",
       "13                                         2                   Допуск  \n",
       "14                                         2                   Допуск  "
      ]
     },
     "execution_count": 12,
     "metadata": {},
     "output_type": "execute_result"
    }
   ],
   "source": [
    "mean_mark = []\n",
    "for value in students[(\"Середній бал\")]:\n",
    "    if value >= 60:\n",
    "        mean_mark.append(\"Допуск\")\n",
    "    else:\n",
    "        mean_mark.append(\"Не допуск\")\n",
    "students[\"Допуск на наступний курс\"] = mean_mark\n",
    "students"
   ]
  },
  {
   "cell_type": "markdown",
   "id": "97d0780d",
   "metadata": {},
   "source": [
    "#### 3. Виведення мінімального, максимального, середнього та медіанного показників середнього балу студентів: ####"
   ]
  },
  {
   "cell_type": "code",
   "execution_count": 13,
   "id": "c14dbca5",
   "metadata": {},
   "outputs": [
    {
     "data": {
      "text/plain": [
       "min       55.000000\n",
       "max       95.000000\n",
       "mean      74.533333\n",
       "median    74.000000\n",
       "Name: Середній бал, dtype: float64"
      ]
     },
     "execution_count": 13,
     "metadata": {},
     "output_type": "execute_result"
    }
   ],
   "source": [
    "students[\"Середній бал\"].agg([\"min\", \"max\", \"mean\", \"median\"])"
   ]
  },
  {
   "cell_type": "markdown",
   "id": "418ba340",
   "metadata": {},
   "source": [
    "#### 4. Виведення кількості студентів, що здали поточний екзамен з першого разу: ####"
   ]
  },
  {
   "cell_type": "code",
   "execution_count": 14,
   "id": "b465782a",
   "metadata": {},
   "outputs": [
    {
     "data": {
      "text/plain": [
       "8"
      ]
     },
     "execution_count": 14,
     "metadata": {},
     "output_type": "execute_result"
    }
   ],
   "source": [
    "len(students[students[\"Кількість спроб здачі поточного екзамену\"] == 1])"
   ]
  },
  {
   "cell_type": "markdown",
   "id": "3718bd12",
   "metadata": {},
   "source": [
    "#### 5. Збереження стовпчика \"Прізвище студента\" з датафрейму у вигляді серії: ####"
   ]
  },
  {
   "cell_type": "code",
   "execution_count": 15,
   "id": "b5f98f85",
   "metadata": {},
   "outputs": [
    {
     "data": {
      "text/plain": [
       "0     Балтінісов\n",
       "1        Глухова\n",
       "2           Драч\n",
       "3       Зезекало\n",
       "4         Коршун\n",
       "5       Марченко\n",
       "6      Новінська\n",
       "7          Пелих\n",
       "8     Ставицький\n",
       "9      Тарасенко\n",
       "10       Фесенко\n",
       "11         Хомут\n",
       "12      Чернишов\n",
       "13    Шаповалова\n",
       "14         Ясень\n",
       "Name: Прізвище студента, dtype: object"
      ]
     },
     "execution_count": 15,
     "metadata": {},
     "output_type": "execute_result"
    }
   ],
   "source": [
    "last_names = students[(\"Прізвище студента\")]\n",
    "last_names"
   ]
  },
  {
   "cell_type": "code",
   "execution_count": 8,
   "id": "29b0f945",
   "metadata": {},
   "outputs": [
    {
     "name": "stdout",
     "output_type": "stream",
     "text": [
      "<class 'pandas.core.series.Series'>\n"
     ]
    }
   ],
   "source": [
    "print(type(last_names))"
   ]
  }
 ],
 "metadata": {
  "kernelspec": {
   "display_name": "Python 3 (ipykernel)",
   "language": "python",
   "name": "python3"
  },
  "language_info": {
   "codemirror_mode": {
    "name": "ipython",
    "version": 3
   },
   "file_extension": ".py",
   "mimetype": "text/x-python",
   "name": "python",
   "nbconvert_exporter": "python",
   "pygments_lexer": "ipython3",
   "version": "3.9.13"
  }
 },
 "nbformat": 4,
 "nbformat_minor": 5
}
